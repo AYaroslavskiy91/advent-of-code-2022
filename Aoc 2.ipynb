{
 "cells": [
  {
   "cell_type": "code",
   "execution_count": 7,
   "metadata": {},
   "outputs": [],
   "source": [
    "import numpy as np\n",
    "import pandas as pd"
   ]
  },
  {
   "cell_type": "code",
   "execution_count": 23,
   "metadata": {},
   "outputs": [
    {
     "data": {
      "text/plain": [
       "0       A Y\n",
       "1       A Z\n",
       "2       A X\n",
       "3       B X\n",
       "4       A Y\n",
       "5       B Y\n",
       "6       B Y\n",
       "7       A X\n",
       "8       A Z\n",
       "9       A X\n",
       "10      A X\n",
       "11      A X\n",
       "12      B X\n",
       "13      B X\n",
       "14      B X\n",
       "15      B X\n",
       "16      C Z\n",
       "17      B Z\n",
       "18      B Y\n",
       "19      B X\n",
       "20      A X\n",
       "21      A Y\n",
       "22      B X\n",
       "23      B X\n",
       "24      B X\n",
       "25      B Z\n",
       "26      B X\n",
       "27      B X\n",
       "28      B X\n",
       "29      B Z\n",
       "       ... \n",
       "2470    B X\n",
       "2471    C Z\n",
       "2472    B X\n",
       "2473    B X\n",
       "2474    B X\n",
       "2475    A X\n",
       "2476    A Z\n",
       "2477    B Z\n",
       "2478    C X\n",
       "2479    A X\n",
       "2480    B X\n",
       "2481    C X\n",
       "2482    B X\n",
       "2483    A X\n",
       "2484    C Z\n",
       "2485    A Z\n",
       "2486    A Y\n",
       "2487    B X\n",
       "2488    C X\n",
       "2489    B X\n",
       "2490    C X\n",
       "2491    B X\n",
       "2492    B Y\n",
       "2493    B Z\n",
       "2494    A X\n",
       "2495    B X\n",
       "2496    B X\n",
       "2497    A X\n",
       "2498    A Z\n",
       "2499    B Z\n",
       "Name: 0, Length: 2500, dtype: object"
      ]
     },
     "execution_count": 23,
     "metadata": {},
     "output_type": "execute_result"
    }
   ],
   "source": [
    "input = pd.read_csv(r'aoc_input/aoc2.txt', header=None,  skip_blank_lines=False).squeeze()\n",
    "input"
   ]
  },
  {
   "cell_type": "code",
   "execution_count": 25,
   "metadata": {},
   "outputs": [],
   "source": [
    "#part 1\n",
    "dict_play = {\n",
    "    'X':1,\n",
    "    'Y':2,\n",
    "    'Z':3,\n",
    "}\n",
    "dict_outcome = {\n",
    "    'A X':3,\n",
    "    'A Y':6,\n",
    "    'A Z':0,\n",
    "    'B X':0,\n",
    "    'B Y':3,\n",
    "    'B Z':6,\n",
    "    'C X':6,\n",
    "    'C Y':0,\n",
    "    'C Z':3,\n",
    "}\n",
    "round_outcome = [\n",
    "    dict_play[round[-1]] + dict_outcome[round]\n",
    "    for round\n",
    "    in input\n",
    "]\n",
    "np.sum(round_outcome)"
   ]
  },
  {
   "cell_type": "code",
   "execution_count": 31,
   "metadata": {},
   "outputs": [
    {
     "data": {
      "text/plain": [
       "9541"
      ]
     },
     "execution_count": 31,
     "metadata": {},
     "output_type": "execute_result"
    }
   ],
   "source": [
    "#part 2\n",
    "dict_play = {\n",
    "    'A X':3,\n",
    "    'A Y':4,\n",
    "    'A Z':8,\n",
    "    'B X':1,\n",
    "    'B Y':5,\n",
    "    'B Z':9,\n",
    "    'C X':2,\n",
    "    'C Y':6,\n",
    "    'C Z':7,\n",
    "}\n",
    "round_outcome = [\n",
    "    dict_play[round]\n",
    "    for round\n",
    "    in input\n",
    "]\n",
    "np.sum(round_outcome)"
   ]
  },
  {
   "cell_type": "code",
   "execution_count": 29,
   "metadata": {},
   "outputs": [
    {
     "data": {
      "text/plain": [
       "10595"
      ]
     },
     "execution_count": 29,
     "metadata": {},
     "output_type": "execute_result"
    }
   ],
   "source": [
    "np.sum(round_outcome)"
   ]
  },
  {
   "cell_type": "code",
   "execution_count": null,
   "metadata": {},
   "outputs": [],
   "source": []
  }
 ],
 "metadata": {
  "kernelspec": {
   "display_name": "Python 3",
   "language": "python",
   "name": "python3"
  },
  "language_info": {
   "codemirror_mode": {
    "name": "ipython",
    "version": 3
   },
   "file_extension": ".py",
   "mimetype": "text/x-python",
   "name": "python",
   "nbconvert_exporter": "python",
   "pygments_lexer": "ipython3",
   "version": "3.7.3"
  }
 },
 "nbformat": 4,
 "nbformat_minor": 2
}
