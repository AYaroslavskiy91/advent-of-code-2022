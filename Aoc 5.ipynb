{
 "cells": [
  {
   "cell_type": "code",
   "execution_count": 1,
   "metadata": {},
   "outputs": [],
   "source": [
    "import numpy as np\n",
    "import pandas as pd"
   ]
  },
  {
   "cell_type": "code",
   "execution_count": 40,
   "metadata": {},
   "outputs": [
    {
     "data": {
      "text/plain": [
       "0      [F]         [L]     [M]            \n",
       "1      [T]     [H] [V] [G] [V]            \n",
       "2      [N]     [T] [D] [R] [N]     [D]    \n",
       "3      [Z]     [B] [C] [P] [B] [R] [Z]    \n",
       "4      [M]     [J] [N] [M] [F] [M] [V] [H]\n",
       "5      [G] [J] [L] [J] [S] [C] [G] [M] [F]\n",
       "6      [H] [W] [V] [P] [W] [H] [H] [N] [N]\n",
       "7      [J] [V] [G] [B] [F] [G] [D] [H] [G]\n",
       "8       1   2   3   4   5   6   7   8   9 \n",
       "9                       move 6 from 4 to 3\n",
       "10                      move 5 from 8 to 9\n",
       "11                      move 1 from 4 to 5\n",
       "12                      move 1 from 4 to 5\n",
       "13                      move 2 from 2 to 7\n",
       "14                      move 2 from 1 to 6\n",
       "15                      move 9 from 6 to 1\n",
       "16                     move 12 from 3 to 5\n",
       "17                      move 1 from 8 to 4\n",
       "18                      move 3 from 1 to 5\n",
       "19                      move 1 from 6 to 7\n",
       "20                     move 10 from 5 to 2\n",
       "21                     move 14 from 5 to 1\n",
       "22                      move 8 from 7 to 9\n",
       "23                     move 11 from 2 to 9\n",
       "24                      move 1 from 3 to 9\n",
       "25                     move 11 from 1 to 5\n",
       "26                      move 2 from 1 to 9\n",
       "27                      move 1 from 4 to 8\n",
       "28                      move 6 from 1 to 5\n",
       "29                      move 1 from 8 to 3\n",
       "                      ...                 \n",
       "481                     move 2 from 4 to 2\n",
       "482                     move 3 from 1 to 4\n",
       "483                     move 1 from 2 to 1\n",
       "484                    move 10 from 3 to 2\n",
       "485                     move 7 from 7 to 3\n",
       "486                    move 11 from 7 to 9\n",
       "487                     move 5 from 3 to 1\n",
       "488                     move 1 from 4 to 5\n",
       "489                    move 11 from 2 to 3\n",
       "490                     move 9 from 9 to 3\n",
       "491                     move 3 from 9 to 4\n",
       "492                     move 2 from 4 to 8\n",
       "493                     move 1 from 5 to 6\n",
       "494                    move 13 from 1 to 5\n",
       "495                     move 3 from 3 to 8\n",
       "496                     move 3 from 7 to 2\n",
       "497                     move 1 from 7 to 4\n",
       "498                     move 3 from 8 to 3\n",
       "499                     move 8 from 3 to 8\n",
       "500                     move 4 from 4 to 5\n",
       "501                     move 2 from 8 to 2\n",
       "502                     move 8 from 8 to 3\n",
       "503                     move 1 from 6 to 3\n",
       "504                     move 2 from 2 to 8\n",
       "505                     move 6 from 5 to 2\n",
       "506                     move 3 from 2 to 8\n",
       "507                     move 1 from 1 to 7\n",
       "508                     move 2 from 9 to 3\n",
       "509                     move 3 from 5 to 4\n",
       "510                     move 2 from 8 to 6\n",
       "Name: 0, Length: 511, dtype: object"
      ]
     },
     "execution_count": 40,
     "metadata": {},
     "output_type": "execute_result"
    }
   ],
   "source": [
    "input = pd.read_csv('aoc_input/aoc5.txt', header=None).squeeze()\n",
    "input"
   ]
  },
  {
   "cell_type": "code",
   "execution_count": 255,
   "metadata": {},
   "outputs": [
    {
     "data": {
      "text/plain": [
       "[['F', 'T', 'N', 'Z', 'M', 'G', 'H', 'J'],\n",
       " ['J', 'W', 'V'],\n",
       " ['H', 'T', 'B', 'J', 'L', 'V', 'G'],\n",
       " ['L', 'V', 'D', 'C', 'N', 'J', 'P', 'B'],\n",
       " ['G', 'R', 'P', 'M', 'S', 'W', 'F'],\n",
       " ['M', 'V', 'N', 'B', 'F', 'C', 'H', 'G'],\n",
       " ['R', 'M', 'G', 'H', 'D'],\n",
       " ['D', 'Z', 'V', 'M', 'N', 'H'],\n",
       " ['H', 'F', 'N', 'G']]"
      ]
     },
     "execution_count": 255,
     "metadata": {},
     "output_type": "execute_result"
    }
   ],
   "source": [
    "crate_stacks = pd.DataFrame([\n",
    "    (str(1) in row)\n",
    "    for row\n",
    "    in input\n",
    "]).idxmax()[0]-1\n",
    "starting_stack = input.loc[:crate_stacks]\n",
    "instructions = input.loc[crate_stacks+2:]\n",
    "instructions_parsed = [[\n",
    "    int(char) \n",
    "    for char\n",
    "    in row.split(' ')\n",
    "    if char.isdigit()]\n",
    "    for row\n",
    "    in instructions\n",
    "]\n",
    "temp_stacks = [[\n",
    "    char \n",
    "    for char \n",
    "    in row \n",
    "]#if char.isalpha() or char==' ']\n",
    "    for row\n",
    "    in starting_stack\n",
    "]\n",
    "df = pd.DataFrame(temp_stacks).transpose()\n",
    "df['ColumnA'] = df[df.columns[0:]].apply(\n",
    "    lambda x: ''.join(x.dropna().astype(str)).strip(),\n",
    "    axis=1\n",
    ")\n",
    "stacks = df.ColumnA.iloc[1::4]\n",
    "stacks.reset_index(drop=True, inplace=True)\n",
    "stack_list = [\n",
    "    list(row)\n",
    "    for row\n",
    "    in stacks\n",
    "]\n",
    "stack_list"
   ]
  },
  {
   "cell_type": "code",
   "execution_count": 256,
   "metadata": {},
   "outputs": [],
   "source": [
    "for row in instructions_parsed:\n",
    "    conts = 0\n",
    "    while conts < row[0]:\n",
    "        stack_list[row[2]-1].insert(0, stack_list[row[1]-1].pop(0))\n",
    "        conts+=1"
   ]
  },
  {
   "cell_type": "code",
   "execution_count": 257,
   "metadata": {},
   "outputs": [
    {
     "data": {
      "text/plain": [
       "0    FTNZMGHJ\n",
       "1         JWV\n",
       "2     HTBJLVG\n",
       "3    LVDCNJPB\n",
       "4     GRPMSWF\n",
       "5    MVNBFCHG\n",
       "6       RMGHD\n",
       "7      DZVMNH\n",
       "8        HFNG\n",
       "Name: ColumnA, dtype: object"
      ]
     },
     "execution_count": 257,
     "metadata": {},
     "output_type": "execute_result"
    }
   ],
   "source": [
    "stacks"
   ]
  },
  {
   "cell_type": "code",
   "execution_count": 258,
   "metadata": {},
   "outputs": [],
   "source": [
    "for row in instructions_parsed:\n",
    "    conts = row[0]\n",
    "    start = row[1]-1\n",
    "    end = row[2]-1\n",
    "    stacks[end] = stacks[start][:conts]+stacks[end]\n",
    "    stacks[start] = stacks[start][conts:]"
   ]
  },
  {
   "cell_type": "code",
   "execution_count": 260,
   "metadata": {},
   "outputs": [
    {
     "data": {
      "text/plain": [
       "'NGCMPJLHV'"
      ]
     },
     "execution_count": 260,
     "metadata": {},
     "output_type": "execute_result"
    }
   ],
   "source": [
    "''.join(\n",
    "[\n",
    "    row[0]\n",
    "    for row\n",
    "    in stacks\n",
    "]\n",
    ")"
   ]
  }
 ],
 "metadata": {
  "kernelspec": {
   "display_name": "Python 3",
   "language": "python",
   "name": "python3"
  },
  "language_info": {
   "codemirror_mode": {
    "name": "ipython",
    "version": 3
   },
   "file_extension": ".py",
   "mimetype": "text/x-python",
   "name": "python",
   "nbconvert_exporter": "python",
   "pygments_lexer": "ipython3",
   "version": "3.7.3"
  }
 },
 "nbformat": 4,
 "nbformat_minor": 2
}
