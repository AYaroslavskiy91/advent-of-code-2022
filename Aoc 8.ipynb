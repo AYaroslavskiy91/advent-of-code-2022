{
 "cells": [
  {
   "cell_type": "code",
   "execution_count": 1,
   "metadata": {},
   "outputs": [],
   "source": [
    "import numpy as np\n",
    "import pandas as pd"
   ]
  },
  {
   "cell_type": "code",
   "execution_count": 291,
   "metadata": {},
   "outputs": [
    {
     "data": {
      "text/plain": [
       "array([[0, 1, 2, ..., 2, 0, 3],\n",
       "       [3, 2, 1, ..., 1, 0, 3],\n",
       "       [3, 1, 0, ..., 3, 0, 0],\n",
       "       ...,\n",
       "       [1, 0, 0, ..., 2, 3, 0],\n",
       "       [2, 2, 0, ..., 2, 1, 0],\n",
       "       [3, 1, 1, ..., 2, 1, 3]])"
      ]
     },
     "execution_count": 291,
     "metadata": {},
     "output_type": "execute_result"
    }
   ],
   "source": [
    "input = [\n",
    "    row[0]\n",
    "    for row\n",
    "    in np.array(pd.read_csv('aoc_input/aoc8.txt', header = None))\n",
    "]\n",
    "input = np.array([\n",
    "    [\n",
    "        int(x) \n",
    "        for x \n",
    "        in str(row)\n",
    "    ]\n",
    "    for row in input\n",
    "])\n",
    "input"
   ]
  },
  {
   "cell_type": "code",
   "execution_count": 292,
   "metadata": {},
   "outputs": [
    {
     "data": {
      "text/plain": [
       "array([[0., 0., 0., ..., 0., 0., 0.],\n",
       "       [0., 0., 0., ..., 0., 0., 0.],\n",
       "       [0., 0., 0., ..., 0., 0., 0.],\n",
       "       ...,\n",
       "       [0., 0., 0., ..., 0., 0., 0.],\n",
       "       [0., 0., 0., ..., 0., 0., 0.],\n",
       "       [0., 0., 0., ..., 0., 0., 0.]])"
      ]
     },
     "execution_count": 292,
     "metadata": {},
     "output_type": "execute_result"
    }
   ],
   "source": [
    "visible_trees = np.zeros(input.shape)\n",
    "visible_trees"
   ]
  },
  {
   "cell_type": "code",
   "execution_count": 293,
   "metadata": {},
   "outputs": [],
   "source": [
    "def see_trees(forest, visible_trees):\n",
    "    for row in range(len(forest)):\n",
    "        current_tree_height = -1\n",
    "        for index in range(len(forest[row])):\n",
    "            tree_height = forest[row][index]\n",
    "            if tree_height > current_tree_height:\n",
    "                visible_trees[row][index] = 1\n",
    "                current_tree_height = tree_height\n",
    "    return visible_trees"
   ]
  },
  {
   "cell_type": "code",
   "execution_count": 298,
   "metadata": {},
   "outputs": [
    {
     "data": {
      "text/plain": [
       "array([[1., 1., 1., ..., 1., 1., 1.],\n",
       "       [1., 1., 1., ..., 1., 1., 1.],\n",
       "       [1., 1., 1., ..., 1., 1., 1.],\n",
       "       ...,\n",
       "       [1., 1., 1., ..., 1., 1., 1.],\n",
       "       [1., 1., 1., ..., 1., 1., 1.],\n",
       "       [1., 1., 1., ..., 1., 1., 1.]])"
      ]
     },
     "execution_count": 298,
     "metadata": {},
     "output_type": "execute_result"
    }
   ],
   "source": [
    "tree_scores = np.ones(input.shape)\n",
    "tree_scores"
   ]
  },
  {
   "cell_type": "code",
   "execution_count": 299,
   "metadata": {},
   "outputs": [],
   "source": [
    "def tree_score(forest, tree_scores):\n",
    "    for row in range(len(forest)):\n",
    "        current_tree_height = -1\n",
    "        largest_tree = 0\n",
    "        seen_trees = 0\n",
    "        seen_since_largest = 0\n",
    "        for index in range(len(forest[row])):\n",
    "            tree_height = forest[row][index]\n",
    "            if tree_height >= current_tree_height:\n",
    "                if tree_height > largest_tree:\n",
    "                    largest_tree = tree_height\n",
    "                    seen_since_largest = 0\n",
    "                    tree_scores[row][index] *= seen_trees\n",
    "                elif tree_height == largest_tree:\n",
    "                    tree_scores[row][index] *= int(seen_since_largest)\n",
    "                    seen_since_largest = 0\n",
    "                else:\n",
    "                    tree_scores[row][index] *= int(seen_since_largest)\n",
    "            else:\n",
    "                tree_scores[row][index] *= 1\n",
    "            seen_trees += 1\n",
    "            seen_since_largest += 1\n",
    "            current_tree_height = tree_height\n",
    "    return tree_scores"
   ]
  },
  {
   "cell_type": "code",
   "execution_count": 300,
   "metadata": {},
   "outputs": [
    {
     "data": {
      "text/plain": [
       "436982.0"
      ]
     },
     "execution_count": 300,
     "metadata": {},
     "output_type": "execute_result"
    }
   ],
   "source": [
    "#part 2\n",
    "def solve_p2(input, tree_scores):\n",
    "    for i in range(4):\n",
    "        tree_scores = tree_score(input, tree_scores)       \n",
    "        input = np.rot90(input)\n",
    "        tree_scores = np.rot90(tree_scores)\n",
    "    return tree_scores\n",
    "solve_p2(input,tree_scores).max()"
   ]
  },
  {
   "cell_type": "code",
   "execution_count": 301,
   "metadata": {
    "scrolled": true
   },
   "outputs": [
    {
     "data": {
      "text/plain": [
       "array([[0.000e+00, 0.000e+00, 0.000e+00, ..., 0.000e+00, 0.000e+00,\n",
       "        0.000e+00],\n",
       "       [0.000e+00, 1.406e+03, 4.100e+01, ..., 7.000e+01, 3.700e+01,\n",
       "        0.000e+00],\n",
       "       [0.000e+00, 1.702e+03, 4.000e+01, ..., 5.040e+03, 3.600e+01,\n",
       "        0.000e+00],\n",
       "       ...,\n",
       "       [0.000e+00, 3.800e+01, 1.240e+02, ..., 2.600e+01, 1.620e+03,\n",
       "        0.000e+00],\n",
       "       [0.000e+00, 1.225e+03, 3.200e+01, ..., 1.856e+03, 1.000e+00,\n",
       "        0.000e+00],\n",
       "       [0.000e+00, 0.000e+00, 0.000e+00, ..., 0.000e+00, 0.000e+00,\n",
       "        0.000e+00]])"
      ]
     },
     "execution_count": 301,
     "metadata": {},
     "output_type": "execute_result"
    }
   ],
   "source": [
    "tree_scores"
   ]
  },
  {
   "cell_type": "code",
   "execution_count": 265,
   "metadata": {
    "scrolled": true
   },
   "outputs": [
    {
     "data": {
      "text/plain": [
       "1711.0"
      ]
     },
     "execution_count": 265,
     "metadata": {},
     "output_type": "execute_result"
    }
   ],
   "source": [
    "#part 1\n",
    "def solve_p1(input, visible_trees):\n",
    "    for i in range(4):\n",
    "        visible_trees = see_trees(input, visible_trees)       \n",
    "        input = np.rot90(input)\n",
    "        visible_trees = np.rot90(visible_trees)\n",
    "    return visible_trees\n",
    "solve_p1(input,visible_trees).sum()"
   ]
  }
 ],
 "metadata": {
  "kernelspec": {
   "display_name": "Python 3",
   "language": "python",
   "name": "python3"
  },
  "language_info": {
   "codemirror_mode": {
    "name": "ipython",
    "version": 3
   },
   "file_extension": ".py",
   "mimetype": "text/x-python",
   "name": "python",
   "nbconvert_exporter": "python",
   "pygments_lexer": "ipython3",
   "version": "3.7.3"
  }
 },
 "nbformat": 4,
 "nbformat_minor": 2
}
