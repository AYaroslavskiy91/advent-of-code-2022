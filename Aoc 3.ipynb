{
 "cells": [
  {
   "cell_type": "code",
   "execution_count": 1,
   "metadata": {},
   "outputs": [],
   "source": [
    "import numpy as np\n",
    "import pandas as pd"
   ]
  },
  {
   "cell_type": "code",
   "execution_count": 53,
   "metadata": {},
   "outputs": [
    {
     "data": {
      "text/plain": [
       "0                              NGvdqJmJvpNbGRMGQgRsfgfn\n",
       "1                            WlHTHShlLwSWjFRsncfbcwsgQc\n",
       "2            BHtSBHWHSCWLZHlhjTHLLdbNNqNpzpDzNvDvtPmmPp\n",
       "3                      JJSShnTpDSJJlllfwBNVbMQWwhQhgQtt\n",
       "4                                    cTzrvrHdLwwzttQNWB\n",
       "5                              qrFqTFvqZvrmsplsjlnDflnZ\n",
       "6                              mhhhVHvNNddHMwBqQwlWZZtv\n",
       "7                                    fbjzjJllCtWjjrZtjq\n",
       "8                              CbgcgpPRDJfzVHFFnSnsSDlm\n",
       "9        ZqBPqBQnPLmqZsFqhsvFsLZQMfSSMbbWddWbjbJSrgWgJf\n",
       "10             NRHnlllcDwwCNClNtttHbNJrSJNfbdWMdfbWgdrJ\n",
       "11     cHGlzTptHtCpncHnCpHpRGzDmvVhqLmvLPmPvLqPmzsqqmPB\n",
       "12                 rCzVtMMbMvCmmvGlclFQFfLpJFJfJpcLHPJL\n",
       "13                               nDGGwqGqnRTfpHLpRFpLFf\n",
       "14                   ZNdNTDsWgNZsZBndnGrzrlMrjgrmjVGjvC\n",
       "15             MgFZHFTgqFFDZZDTdVdHrzQvLzCGwpCPrGLqQpzz\n",
       "16                         JsnmbjhmffJbRNJppzPPzwzzrwdv\n",
       "17             lfblfthBRbBRjnjhBtBlZgdVcFSTVFDtSSWgMcdM\n",
       "18         hPVhVhWPCMhlDTTWdrPlTcLjfbZbFNjZBbFNBbdBFbsB\n",
       "19       MHSwMJpHnqJHwtqHGqGGmvqZsZFjBmsBNRBFfLbsFsZfsZ\n",
       "20                   pqtMHHQpvqnwMpgJMCChTQhVVlclPWrCCD\n",
       "21                     zRBBhZFwWZlBQpMZNNNJsfDpLsNsJppN\n",
       "22           SvggPbjvVSvvtgGVPbbnSMcCLtMrDddssJdsLdfdCD\n",
       "23                           mTSmMgHjgmgGgqzTwZwBlBFzwB\n",
       "24                                   WLzWZHWSZPFRVSPSPM\n",
       "25       hmrvmGvfTCmhBGBqTfnmJFfdbQcwdMhMwRdbQMVQQcMhsQ\n",
       "26             JGJJnrnnCmqBTJTrNBqBLDzHFLFDNgjZlWtDNZHL\n",
       "27                                 bwbbnWwpbTwFHwRzzzmH\n",
       "28                           ZccjZjddjPVhJmrBQHHFQRHcWF\n",
       "29                             NVhWldsMjZZZLSnvSTGTgvMb\n",
       "                             ...                       \n",
       "270                        DbWjNCWQCRRNsDPpFGcjjcqFqFfm\n",
       "271                            PZdMSzSZTtZZqVmpqmmmTpgg\n",
       "272                    ZvZMzBztzvhvddPMQlNCQDbQLBLrsRRW\n",
       "273                      WzWFhHpWhvCpPpPLswMHswMMHLbgmH\n",
       "274                  NNZSZTVQNrTnqDqrrwtwwLstsMGMnbntGm\n",
       "275                    TBmQcrNqNSQVmrmQBPdpFFzhFlPzzCPF\n",
       "276                    nBgmSrjgmjtmrbjSFGLWtLVpFVQQVGFL\n",
       "277                      JlChvCzvqCqWffwFdFVQfPVPHPFGLV\n",
       "278                JzvTThZcCCMcMMwJzlbjTjmnRgRTTBnWgbBn\n",
       "279                    rppjbbDpGnwrGprVCLLJZDzQqZzLNQqc\n",
       "280              htflFBFmBBlWTTgsggtZHMQLCCCcHqHMfZczHq\n",
       "281                      gFdFTWgRhBmWWTFSGQbVnSSPnvndpv\n",
       "282                      qFSRRGGgTgThTQhcllCWCJCctWWhfJ\n",
       "283                    bvbdzNDMzHZNNHFHfJWWjljWNNfcnWtn\n",
       "284    PdbPdPBHmsdbdbPdBHBdmdmsgrTqsGQRTwSpSFrqrRSFpRwp\n",
       "285        pQJZZGQtChQtpWZQTTWhNtVdVWSLBrsLSVrLvrvrLdBd\n",
       "286                                lMHnzGRgPRMSMBLcvBSS\n",
       "287            nglFzflzHRDGgzfzPgHRbTDQthbZbhhppNbbCqhb\n",
       "288                            jVrvrJjpZfZCCGctwhbhMRcM\n",
       "289              BQQnFFTBdBndzssFsdTbRwDGTPGbcMbwtDgbcG\n",
       "290                                HnLtQQBLtWNrVpqjJvWN\n",
       "291              dnVlsnJlMqnlNqJdnMRvDHBRvbBLHLpRSPPPRS\n",
       "292                  NcGGCthFwcFwmjCTGDSfPSSHSPfPtDHfbD\n",
       "293                                  zNWNZGWNzQnWlJWVJn\n",
       "294                              tMGSBtRtvjFcGpQrQQQQrp\n",
       "295                    FffbJTJfPLNbTnJJmlVcQVfpQmlWVVfH\n",
       "296                                    FTdJJdhNvZhMtRSh\n",
       "297                                  pSTfMtMLSTPsPsBszP\n",
       "298      jdlmlFHHhVdmVHFNFRnHzHQJsGZBJbbJDvsDRPBsrGrDrJ\n",
       "299          VHnFjcdccjlmNVmnzmNVmCMggfqwtLLfSMwWtcWMSg\n",
       "Name: 0, Length: 300, dtype: object"
      ]
     },
     "execution_count": 53,
     "metadata": {},
     "output_type": "execute_result"
    }
   ],
   "source": [
    "input = pd.read_csv(r'aoc_input/aoc3.txt', header=None,  skip_blank_lines=False).squeeze()\n",
    "input"
   ]
  },
  {
   "cell_type": "code",
   "execution_count": 40,
   "metadata": {},
   "outputs": [
    {
     "data": {
      "text/plain": [
       "8139"
      ]
     },
     "execution_count": 40,
     "metadata": {},
     "output_type": "execute_result"
    }
   ],
   "source": [
    "#part 1\n",
    "common_element = [] \n",
    "for row in input:\n",
    "    length = int(len(row)/2)\n",
    "    common = list(set(row[:length])&set(row[length:]))[0]\n",
    "    priority = (ord(common)-96) if common.islower()==True else ord(common)-38 \n",
    "    common_element.append(priority)\n",
    "np.sum(common_element)"
   ]
  },
  {
   "cell_type": "code",
   "execution_count": 61,
   "metadata": {},
   "outputs": [
    {
     "data": {
      "text/plain": [
       "2668"
      ]
     },
     "execution_count": 61,
     "metadata": {},
     "output_type": "execute_result"
    }
   ],
   "source": [
    "#part 2\n",
    "common_element = [] \n",
    "row_count = 0\n",
    "while row_count < len(input):\n",
    "    common = list(\n",
    "        set(input[row_count])&\n",
    "        set(input[row_count+1])&\n",
    "        set(input[row_count+2])\n",
    "    )[0]           \n",
    "    priority = (ord(common)-96) if common.islower()==True else ord(common)-38 \n",
    "    common_element.append(priority)\n",
    "    row_count +=3\n",
    "np.sum(common_element)"
   ]
  }
 ],
 "metadata": {
  "kernelspec": {
   "display_name": "Python 3",
   "language": "python",
   "name": "python3"
  },
  "language_info": {
   "codemirror_mode": {
    "name": "ipython",
    "version": 3
   },
   "file_extension": ".py",
   "mimetype": "text/x-python",
   "name": "python",
   "nbconvert_exporter": "python",
   "pygments_lexer": "ipython3",
   "version": "3.7.3"
  }
 },
 "nbformat": 4,
 "nbformat_minor": 2
}
