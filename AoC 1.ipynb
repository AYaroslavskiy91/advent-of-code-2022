{
 "cells": [
  {
   "cell_type": "code",
   "execution_count": 1,
   "metadata": {},
   "outputs": [],
   "source": [
    "import numpy as np\n",
    "import pandas as pd"
   ]
  },
  {
   "cell_type": "code",
   "execution_count": 2,
   "metadata": {},
   "outputs": [
    {
     "data": {
      "text/plain": [
       "0        9609.0\n",
       "1        7601.0\n",
       "2        7142.0\n",
       "3        5278.0\n",
       "4        9374.0\n",
       "5        6815.0\n",
       "6        1050.0\n",
       "7        6329.0\n",
       "8        8016.0\n",
       "9           NaN\n",
       "10      12477.0\n",
       "11      28601.0\n",
       "12          NaN\n",
       "13       1056.0\n",
       "14       5037.0\n",
       "15       1660.0\n",
       "16       3786.0\n",
       "17       2611.0\n",
       "18       6689.0\n",
       "19       3159.0\n",
       "20       2973.0\n",
       "21       5286.0\n",
       "22       2401.0\n",
       "23       6231.0\n",
       "24       7460.0\n",
       "25          NaN\n",
       "26       3689.0\n",
       "27       3909.0\n",
       "28       9254.0\n",
       "29       5704.0\n",
       "         ...   \n",
       "2220        NaN\n",
       "2221     7794.0\n",
       "2222     1246.0\n",
       "2223     5418.0\n",
       "2224     2460.0\n",
       "2225     7858.0\n",
       "2226     6992.0\n",
       "2227     5897.0\n",
       "2228     3459.0\n",
       "2229     2915.0\n",
       "2230     2227.0\n",
       "2231     1517.0\n",
       "2232        NaN\n",
       "2233     7873.0\n",
       "2234     3664.0\n",
       "2235     6050.0\n",
       "2236     9000.0\n",
       "2237     8922.0\n",
       "2238     8817.0\n",
       "2239     4514.0\n",
       "2240        NaN\n",
       "2241    20975.0\n",
       "2242        NaN\n",
       "2243     4983.0\n",
       "2244    11133.0\n",
       "2245     4400.0\n",
       "2246     6751.0\n",
       "2247     2763.0\n",
       "2248     2781.0\n",
       "2249    11806.0\n",
       "Name: 0, Length: 2250, dtype: float64"
      ]
     },
     "execution_count": 2,
     "metadata": {},
     "output_type": "execute_result"
    }
   ],
   "source": [
    "input = pd.read_csv(r'aoc_input/aoc1.txt', header=None,  skip_blank_lines=False).squeeze()\n",
    "input"
   ]
  },
  {
   "cell_type": "code",
   "execution_count": 109,
   "metadata": {},
   "outputs": [],
   "source": [
    "def most_cals(input):\n",
    "    v = input.squeeze()\n",
    "    cumsum = v.cumsum().fillna(method='pad')\n",
    "    reset = -cumsum[v.isnull()].diff().fillna(cumsum)\n",
    "    result = v.where(v.notnull(), reset).cumsum()\n",
    "    return result.nlargest(3)"
   ]
  },
  {
   "cell_type": "code",
   "execution_count": 110,
   "metadata": {},
   "outputs": [
    {
     "data": {
      "text/plain": [
       "267     71300.0\n",
       "152     69249.0\n",
       "1036    69142.0\n",
       "Name: 0, dtype: float64"
      ]
     },
     "execution_count": 110,
     "metadata": {},
     "output_type": "execute_result"
    }
   ],
   "source": [
    "most_cals(input)"
   ]
  },
  {
   "cell_type": "code",
   "execution_count": 112,
   "metadata": {},
   "outputs": [
    {
     "data": {
      "text/plain": [
       "209691.0"
      ]
     },
     "execution_count": 112,
     "metadata": {},
     "output_type": "execute_result"
    }
   ],
   "source": [
    "most_cals(input).sum()"
   ]
  }
 ],
 "metadata": {
  "kernelspec": {
   "display_name": "Python 3",
   "language": "python",
   "name": "python3"
  },
  "language_info": {
   "codemirror_mode": {
    "name": "ipython",
    "version": 3
   },
   "file_extension": ".py",
   "mimetype": "text/x-python",
   "name": "python",
   "nbconvert_exporter": "python",
   "pygments_lexer": "ipython3",
   "version": "3.7.3"
  }
 },
 "nbformat": 4,
 "nbformat_minor": 2
}
